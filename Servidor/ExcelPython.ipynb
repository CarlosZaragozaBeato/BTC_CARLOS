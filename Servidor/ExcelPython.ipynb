{
 "cells": [
  {
   "cell_type": "code",
   "execution_count": 94,
   "metadata": {},
   "outputs": [],
   "source": [
    "from google.oauth2.credentials import Credentials\n",
    "from googleapiclient.discovery import build\n",
    "import json\n",
    "from datetime import datetime"
   ]
  },
  {
   "cell_type": "code",
   "execution_count": 100,
   "metadata": {},
   "outputs": [],
   "source": [
    "class ExcelPython:\n",
    "    def __init__(self):\n",
    "        # ID ARCHIVO\n",
    "        self.__id_hoja = \"1qVPAe1tRfOwV-4nlQ2UUBV2NmJQ_19u7QNh4D1gMFJo\"\n",
    "\n",
    "        \n",
    "        # SHEET SERVICE\n",
    "        creds_dict = json.load(open(\"./token/token.json\"))\n",
    "        credenciales = Credentials.from_authorized_user_info(info=creds_dict)\n",
    "        self.sheet_service = build('sheets', 'v4', credentials=credenciales)\n",
    "        self.archivo = self.__buscar_hoja_general()\n",
    "        \n",
    "    def __buscar_hoja_general(self):\n",
    "        range_name = \"Panel!A1:H60\"\n",
    "        return self.sheet_service.spreadsheets().values().get(\n",
    "                spreadsheetId=self.__id_hoja,\n",
    "                range=range_name\n",
    "            ).execute()\n",
    "        \n",
    "    def __buscar_id(self, id):\n",
    "        rango = \"Panel!A1:A60\"\n",
    "        valores = self.sheet_service.spreadsheets().values().get(\n",
    "                spreadsheetId=self.__id_hoja,\n",
    "                range=rango\n",
    "            ).execute()\n",
    "        \n",
    "        resultado = []\n",
    "        for index, valor in enumerate(valores.get('values', [])):\n",
    "            if valor[0] == id: \n",
    "                resultado.append(((index+1), valor))\n",
    "        return resultado\n",
    "    \n",
    "    def __modificar_fecha(self,index):\n",
    "        rango_fecha = f\"Panel!B{index}\"\n",
    "        now = datetime.now()\n",
    "        nuevo_valor = [[str(now)]]\n",
    "        body = {'values': nuevo_valor}\n",
    "\n",
    "        result = self.sheet_service.spreadsheets().values().update(\n",
    "            spreadsheetId=self.__id_hoja,\n",
    "            range=rango_fecha,\n",
    "            valueInputOption='RAW',\n",
    "            body=body\n",
    "        ).execute()\n",
    "    \n",
    "    \n",
    "    # MODIFICAR GENERAL\n",
    "    def modificar_general(self, id):\n",
    "        respuesta = \"\"\n",
    "        \n",
    "        resultado =  self.__buscar_id(id)\n",
    "        \n",
    "        \n",
    "        if len(resultado) > 0:\n",
    "            index, _ = resultado[0]\n",
    "            self.__modificar_fecha(index)\n",
    "            \n",
    "            respuesta = \"MODIFICADO\"\n",
    "        else:\n",
    "            respuesta = \"NO EXISTE EL ID\"\n",
    "        \n",
    "        return resultado\n",
    "        \n",
    "    "
   ]
  },
  {
   "cell_type": "code",
   "execution_count": null,
   "metadata": {},
   "outputs": [],
   "source": []
  },
  {
   "cell_type": "code",
   "execution_count": 101,
   "metadata": {},
   "outputs": [],
   "source": [
    "excel =  ExcelPython()"
   ]
  },
  {
   "cell_type": "code",
   "execution_count": 102,
   "metadata": {},
   "outputs": [],
   "source": [
    "excel.modificar_general(\"5\")"
   ]
  },
  {
   "cell_type": "code",
   "execution_count": null,
   "metadata": {},
   "outputs": [],
   "source": []
  },
  {
   "cell_type": "code",
   "execution_count": null,
   "metadata": {},
   "outputs": [],
   "source": []
  },
  {
   "cell_type": "code",
   "execution_count": 98,
   "metadata": {},
   "outputs": [],
   "source": [
    "# DRIVE SERVICE"
   ]
  },
  {
   "cell_type": "code",
   "execution_count": 99,
   "metadata": {},
   "outputs": [
    {
     "ename": "FileNotFoundError",
     "evalue": "[Errno 2] No such file or directory: 'ruta_token.json'",
     "output_type": "error",
     "traceback": [
      "\u001b[1;31m---------------------------------------------------------------------------\u001b[0m",
      "\u001b[1;31mFileNotFoundError\u001b[0m                         Traceback (most recent call last)",
      "Cell \u001b[1;32mIn[99], line 5\u001b[0m\n\u001b[0;32m      2\u001b[0m \u001b[39mfrom\u001b[39;00m \u001b[39mgoogleapiclient\u001b[39;00m\u001b[39m.\u001b[39;00m\u001b[39mdiscovery\u001b[39;00m \u001b[39mimport\u001b[39;00m build\n\u001b[0;32m      4\u001b[0m \u001b[39m# Carga las credenciales desde el archivo JSON\u001b[39;00m\n\u001b[1;32m----> 5\u001b[0m creds \u001b[39m=\u001b[39m service_account\u001b[39m.\u001b[39;49mCredentials\u001b[39m.\u001b[39;49mfrom_service_account_file(\u001b[39m'\u001b[39;49m\u001b[39mruta_token.json\u001b[39;49m\u001b[39m'\u001b[39;49m)\n\u001b[0;32m      7\u001b[0m \u001b[39m# Crea el servicio de Google Sheets\u001b[39;00m\n\u001b[0;32m      8\u001b[0m service \u001b[39m=\u001b[39m build(\u001b[39m'\u001b[39m\u001b[39msheets\u001b[39m\u001b[39m'\u001b[39m, \u001b[39m'\u001b[39m\u001b[39mv4\u001b[39m\u001b[39m'\u001b[39m, credentials\u001b[39m=\u001b[39mcreds)\n",
      "File \u001b[1;32mc:\\Users\\carlo\\AppData\\Local\\Programs\\Python\\Python311\\Lib\\site-packages\\google\\oauth2\\service_account.py:241\u001b[0m, in \u001b[0;36mCredentials.from_service_account_file\u001b[1;34m(cls, filename, **kwargs)\u001b[0m\n\u001b[0;32m    229\u001b[0m \u001b[39m@classmethod\u001b[39m\n\u001b[0;32m    230\u001b[0m \u001b[39mdef\u001b[39;00m \u001b[39mfrom_service_account_file\u001b[39m(\u001b[39mcls\u001b[39m, filename, \u001b[39m*\u001b[39m\u001b[39m*\u001b[39mkwargs):\n\u001b[0;32m    231\u001b[0m \u001b[39m    \u001b[39m\u001b[39m\"\"\"Creates a Credentials instance from a service account json file.\u001b[39;00m\n\u001b[0;32m    232\u001b[0m \n\u001b[0;32m    233\u001b[0m \u001b[39m    Args:\u001b[39;00m\n\u001b[1;32m   (...)\u001b[0m\n\u001b[0;32m    239\u001b[0m \u001b[39m            credentials.\u001b[39;00m\n\u001b[0;32m    240\u001b[0m \u001b[39m    \"\"\"\u001b[39;00m\n\u001b[1;32m--> 241\u001b[0m     info, signer \u001b[39m=\u001b[39m _service_account_info\u001b[39m.\u001b[39;49mfrom_filename(\n\u001b[0;32m    242\u001b[0m         filename, require\u001b[39m=\u001b[39;49m[\u001b[39m\"\u001b[39;49m\u001b[39mclient_email\u001b[39;49m\u001b[39m\"\u001b[39;49m, \u001b[39m\"\u001b[39;49m\u001b[39mtoken_uri\u001b[39;49m\u001b[39m\"\u001b[39;49m]\n\u001b[0;32m    243\u001b[0m     )\n\u001b[0;32m    244\u001b[0m     \u001b[39mreturn\u001b[39;00m \u001b[39mcls\u001b[39m\u001b[39m.\u001b[39m_from_signer_and_info(signer, info, \u001b[39m*\u001b[39m\u001b[39m*\u001b[39mkwargs)\n",
      "File \u001b[1;32mc:\\Users\\carlo\\AppData\\Local\\Programs\\Python\\Python311\\Lib\\site-packages\\google\\auth\\_service_account_info.py:80\u001b[0m, in \u001b[0;36mfrom_filename\u001b[1;34m(filename, require, use_rsa_signer)\u001b[0m\n\u001b[0;32m     66\u001b[0m \u001b[39mdef\u001b[39;00m \u001b[39mfrom_filename\u001b[39m(filename, require\u001b[39m=\u001b[39m\u001b[39mNone\u001b[39;00m, use_rsa_signer\u001b[39m=\u001b[39m\u001b[39mTrue\u001b[39;00m):\n\u001b[0;32m     67\u001b[0m \u001b[39m    \u001b[39m\u001b[39m\"\"\"Reads a Google service account JSON file and returns its parsed info.\u001b[39;00m\n\u001b[0;32m     68\u001b[0m \n\u001b[0;32m     69\u001b[0m \u001b[39m    Args:\u001b[39;00m\n\u001b[1;32m   (...)\u001b[0m\n\u001b[0;32m     78\u001b[0m \u001b[39m            info and a signer instance.\u001b[39;00m\n\u001b[0;32m     79\u001b[0m \u001b[39m    \"\"\"\u001b[39;00m\n\u001b[1;32m---> 80\u001b[0m     \u001b[39mwith\u001b[39;00m io\u001b[39m.\u001b[39;49mopen(filename, \u001b[39m\"\u001b[39;49m\u001b[39mr\u001b[39;49m\u001b[39m\"\u001b[39;49m, encoding\u001b[39m=\u001b[39;49m\u001b[39m\"\u001b[39;49m\u001b[39mutf-8\u001b[39;49m\u001b[39m\"\u001b[39;49m) \u001b[39mas\u001b[39;00m json_file:\n\u001b[0;32m     81\u001b[0m         data \u001b[39m=\u001b[39m json\u001b[39m.\u001b[39mload(json_file)\n\u001b[0;32m     82\u001b[0m         \u001b[39mreturn\u001b[39;00m data, from_dict(data, require\u001b[39m=\u001b[39mrequire, use_rsa_signer\u001b[39m=\u001b[39muse_rsa_signer)\n",
      "\u001b[1;31mFileNotFoundError\u001b[0m: [Errno 2] No such file or directory: 'ruta_token.json'"
     ]
    }
   ],
   "source": [
    "from google.oauth2 import service_account\n",
    "from googleapiclient.discovery import build\n",
    "\n",
    "# Carga las credenciales desde el archivo JSON\n",
    "creds = service_account.Credentials.from_service_account_file('ruta_token.json')\n",
    "\n",
    "# Crea el servicio de Google Sheets\n",
    "service = build('sheets', 'v4', credentials=creds)\n",
    "\n",
    "# Ejemplo: Editar una celda existente\n",
    "spreadsheet_id = 'ID_de_tu_hoja_de_cálculo'\n",
    "range_name = 'Nombre_de_tu_hoja!A1'\n",
    "\n",
    "values = [\n",
    "    ['Nuevo valor de la celda']\n",
    "]\n",
    "body = {\n",
    "    'values': values\n",
    "}\n",
    "\n",
    "result = service.spreadsheets().values().update(\n",
    "    spreadsheetId=spreadsheet_id,\n",
    "    range=range_name,\n",
    "    valueInputOption='RAW',\n",
    "    body=body\n",
    ").execute()\n",
    "\n",
    "print('Celda actualizada:', result.get('updatedCells'))\n",
    "\n",
    "# Ejemplo: Añadir nuevas celdas\n",
    "range_name = 'Nombre_de_tu_hoja!A3:B4'\n",
    "\n",
    "values = [\n",
    "    ['Valor de la nueva celda 1', 'Valor de la nueva celda 2'],\n",
    "    ['Valor de la nueva celda 3', 'Valor de la nueva celda 4']\n",
    "]\n",
    "body = {\n",
    "    'values': values\n",
    "}\n",
    "\n",
    "result = service.spreadsheets().values().append(\n",
    "    spreadsheetId=spreadsheet_id,\n",
    "    range=range_name,\n",
    "    valueInputOption='RAW',\n",
    "    insertDataOption='OVERWRITE',\n",
    "    body=body\n",
    ").execute()\n",
    "\n",
    "print('Celdas añadidas:', result.get('updates').get('updatedCells'))\n"
   ]
  },
  {
   "cell_type": "code",
   "execution_count": null,
   "metadata": {},
   "outputs": [
    {
     "data": {
      "text/plain": [
       "{'range': 'Sheet1!A1:B2',\n",
       " 'majorDimension': 'ROWS',\n",
       " 'values': [['ID', 'FECHA']]}"
      ]
     },
     "execution_count": 46,
     "metadata": {},
     "output_type": "execute_result"
    }
   ],
   "source": [
    "result"
   ]
  },
  {
   "cell_type": "code",
   "execution_count": null,
   "metadata": {},
   "outputs": [],
   "source": []
  }
 ],
 "metadata": {
  "kernelspec": {
   "display_name": "Python 3",
   "language": "python",
   "name": "python3"
  },
  "language_info": {
   "codemirror_mode": {
    "name": "ipython",
    "version": 3
   },
   "file_extension": ".py",
   "mimetype": "text/x-python",
   "name": "python",
   "nbconvert_exporter": "python",
   "pygments_lexer": "ipython3",
   "version": "3.11.2"
  },
  "orig_nbformat": 4
 },
 "nbformat": 4,
 "nbformat_minor": 2
}
